{
 "cells": [
  {
   "cell_type": "code",
   "execution_count": 1,
   "metadata": {},
   "outputs": [
    {
     "data": {
      "text/plain": [
       "-1235.813878353702"
      ]
     },
     "execution_count": 1,
     "metadata": {},
     "output_type": "execute_result"
    }
   ],
   "source": [
    "(1 + 2) - 3 / 4 * 5 + 6 - 7 / 8 * 9 + 12 - 34 / 56 * 78 + 912 - 345 / 678 * 9123 + 4567 - 8912 / 3456 * 789"
   ]
  },
  {
   "cell_type": "raw",
   "metadata": {},
   "source": [
    "1 + 2 - 15 / 4 + 6 - 63 / 8 + 12 - 663 / 14 + 912 - 1049145 / 226 + 4567 - 146491 / 7\n",
    "\n",
    "5500 - 15 / 4 - 63 / 8 - 663 / 14 - 146491 / 72 - 1049145 / 226\n",
    "\n",
    "5500 - 3.75 - 7.87 - 45.21 - 2034.59 - 4642.23\n",
    "\n",
    "-1233.649999999999"
   ]
  }
 ],
 "metadata": {
  "kernelspec": {
   "display_name": "Python 3",
   "language": "python",
   "name": "python3"
  },
  "language_info": {
   "codemirror_mode": {
    "name": "ipython",
    "version": 3
   },
   "file_extension": ".py",
   "mimetype": "text/x-python",
   "name": "python",
   "nbconvert_exporter": "python",
   "pygments_lexer": "ipython3",
   "version": "3.7.3"
  }
 },
 "nbformat": 4,
 "nbformat_minor": 2
}
